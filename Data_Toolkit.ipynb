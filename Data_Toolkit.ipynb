{
  "nbformat": 4,
  "nbformat_minor": 0,
  "metadata": {
    "colab": {
      "provenance": []
    },
    "kernelspec": {
      "name": "python3",
      "display_name": "Python 3"
    },
    "language_info": {
      "name": "python"
    }
  },
  "cells": [
    {
      "cell_type": "markdown",
      "source": [
        "# DATA TOOLKIT\n"
      ],
      "metadata": {
        "id": "h90aqxqtqDWk"
      }
    },
    {
      "cell_type": "markdown",
      "source": [
        "1. What is Numpy and why is it widely used in Python ?\n",
        "\n",
        "NumPy, short for Numerical Python, is a fundamental open-source library in Python for numerical and scientific computing. It provides support for large, multi-dimensional arrays and matrices, along with a collection of high-level mathematical functions to operate on these arrays. The core data structure in NumPy is the ndarray (n-dimensional array), which is a homogeneous container for elements of the same data type.\n",
        "\n",
        "NumPy is widely used in Python for several key reasons:\n",
        "\n",
        "Performance: NumPy arrays are significantly faster and more memory-efficient than standard Python lists for numerical operations. This is due to their underlying implementation in C and the use of contiguous memory allocation, which allows for vectorized operations and efficient use of CPU caches.\n",
        "Multi-dimensional Arrays: Python's built-in lists do not natively support multi-dimensional arrays, which are crucial for representing data like images, matrices, and tensors. NumPy's ndarray provides this capability, enabling efficient manipulation of such data structures.\n",
        "\n",
        "Rich Functionality: NumPy offers a vast collection of mathematical functions for linear algebra, Fourier transforms, random number generation, statistical operations, and more. This extensive toolkit simplifies complex numerical computations.\n",
        "\n",
        "Foundation for Scientific Computing: NumPy serves as the bedrock for many other prominent libraries in the Python scientific computing ecosystem, including SciPy, Matplotlib, scikit-learn, and Pandas. Its efficient array operations are leveraged by these libraries for various data analysis, visualization, and machine learning tasks.\n",
        "\n",
        "Ease of Use: Despite its powerful capabilities, NumPy provides a relatively simple and intuitive API, making it accessible to both beginners and experienced Python developers for performing numerical operations.\n",
        "\n",
        "2. How does broadcasting work in Numpy ?\n",
        "\n",
        "Broadcasting in NumPy is a mechanism that allows arithmetic operations to be performed on arrays of different shapes and sizes. It enables element-wise operations without requiring explicit loops or making unnecessary copies of data, which enhances performance and memory efficiency.\n",
        "\n",
        "How Broadcasting Works:\n",
        "\n",
        "NumPy applies a set of rules to determine if two arrays are \"broadcastable\" and how the operation should proceed:\n",
        "Dimension Matching (from right to left): NumPy compares the dimensions of the two arrays starting from the trailing (rightmost) dimension and moving towards the leading (leftmost) dimension.\n",
        "\n",
        "Compatibility Rule: For each dimension being compared, the arrays are considered compatible if:\n",
        "\n",
        "The dimension sizes are equal.\n",
        "One of the dimension sizes is 1.\n",
        "Dimension Padding (Rule 1): If the arrays have a different number of dimensions, the shape of the array with fewer dimensions is padded with ones on its leading (left) side until it has the same number of dimensions as the larger array.\n",
        "\n",
        "Stretching (Rule 2): If the dimension sizes do not match but one of them is 1, the array with the dimension of size 1 is \"stretched\" or effectively replicated along that dimension to match the size of the other array's corresponding dimension. This is a conceptual stretching; no actual data is duplicated in memory.\n",
        "\n",
        "Error Handling (Rule 3): If in any dimension the sizes disagree and neither is equal to 1, broadcasting is not possible, and a ValueError is raised.\n",
        "\n",
        "3. what is a Pandas Data Frame ?\n",
        "\n",
        "A pandas DataFrame is a two-dimensional, mutable, and labeled data structure in the pandas library for Python. It is designed to handle tabular data with columns of potentially different data types, similar to a spreadsheet or a table in a relational database.\n",
        "\n",
        "Key characteristics of a pandas DataFrame include:\n",
        "\n",
        "Two-dimensional: Data is organized in rows and columns.\n",
        "Labeled axes: Both rows (index) and columns have labels, allowing for easy access and manipulation of data.\n",
        "\n",
        "Heterogeneous data types: Different columns can store different types of data (e.g., integers, floats, strings, booleans, dates).\n",
        "\n",
        "Size-mutable: New columns or rows can be added or removed.\n",
        "\n",
        "Column as Series: Each column within a DataFrame is essentially a pandas Series, which is a one-dimensional labeled array.\n",
        "\n",
        "DataFrames are a fundamental tool in data analysis and manipulation within the Python ecosystem, widely used for tasks such as data cleaning, transformation, analysis, and visualization. They provide a powerful and flexible way to work with structured data.\n",
        "\n",
        "4. Explain the use of groupby() method in Pandas .\n",
        "\n",
        "The groupby() method in Pandas is a fundamental tool for data analysis, enabling the \"split-apply-combine\" strategy. This process involves:\n",
        "\n",
        "Splitting: Dividing a DataFrame into groups based on the unique values in one or more specified columns.\n",
        "\n",
        "Applying: Performing an operation (e.g., aggregation, transformation, filtration) independently on each of these created groups.\n",
        "\n",
        "Combining: Merging the results of the applied operation back into a single DataFrame or Series.\n",
        "\n",
        "Common Uses of groupby():\n",
        "\n",
        "Aggregation: Calculating summary statistics for each group, such as the sum (.sum()), mean (.mean()), count (.count()), minimum (.min()), or maximum (.max()) of a numerical column. For example, finding the average sales for each product category.\n",
        "\n",
        "Transformation: Applying a function to each group that returns a result with the same index as the original group. This is useful for tasks like normalizing data within each group.\n",
        "\n",
        "Filtration: Selecting or removing groups based on a specific condition. For instance, filtering out groups with fewer than a certain number of entries.\n",
        "Custom Operations: Applying user-defined functions to each group using the .apply() method, allowing for highly flexible data manipulation.\n",
        "\n",
        "5. why is seaborn preferred for statistical visualizations ?\n",
        "\n",
        "Seaborn is preferred for statistical visualizations due to its high-level, dataset-oriented API, which simplifies the creation of informative and aesthetically pleasing statistical graphics. Its key advantages include:\n",
        "\n",
        "Ease of Use: Seaborn provides a simpler and more intuitive syntax compared to Matplotlib, allowing users to create complex statistical plots with fewer lines of code.\n",
        "\n",
        "Built for Statistical Graphics: It is specifically designed for visualizing statistical relationships within data, offering specialized plot types like relational plots, distribution plots, and categorical plots that directly address common statistical analysis needs.\n",
        "\n",
        "Aesthetic Appeal: Seaborn comes with attractive default themes and color palettes, producing visually appealing plots that require less manual customization for presentation.\n",
        "\n",
        "Integration with Pandas: It seamlessly integrates with Pandas DataFrames, enabling direct visualization of data structures commonly used in data analysis without extensive data manipulation.\n",
        "\n",
        "Statistical Functions: Seaborn incorporates statistical estimation and aggregation functions directly into its plotting functions, providing immediate insights into data distributions and relationships.\n",
        "\n",
        "Support for Complex Visualizations: It facilitates the creation of multi-panel figures and advanced statistical plots, such as violin plots, pair plots, and joint plots, which are crucial for comprehensive data exploration.\n",
        "\n",
        "Customization Options: While offering sensible defaults, Seaborn also provides extensive customization options, allowing users to fine-tune various aspects of their plots when needed.\n",
        "\n",
        "6. What are the differences between NumPy arrays and Python lists ?\n",
        "\n",
        "The key differences between NumPy arrays and Python lists are as follows:\n",
        "\n",
        "Homogeneity vs. Heterogeneity:\n",
        "\n",
        "NumPy arrays: Store elements of a single, uniform data type (e.g., all integers, all floats). This homogeneity allows for efficient memory storage and optimized numerical operations.\n",
        "\n",
        "Python lists: Can store elements of different data types within the same list (e.g., integers, strings, floats, other lists). This provides greater flexibility for general-purpose data storage.\n",
        "\n",
        "Performance and Efficiency:\n",
        "NumPy arrays: Offer significantly better performance for numerical operations, especially with large datasets, due to their underlying C implementation and contiguous memory storage. They are optimized for mathematical computations.\n",
        "\n",
        "Python lists: While versatile, they are generally less efficient for numerical operations on large datasets compared to NumPy arrays, as they store pointers to objects scattered in memory.\n",
        "\n",
        "Functionality for Numerical Operations:\n",
        "\n",
        "NumPy arrays: Provide a vast array of built-in functions and methods for numerical operations like linear algebra, Fourier transforms, statistical computations, and more, all optimized for performance.\n",
        "\n",
        "Python lists: Lack these specialized numerical functionalities and require manual implementation or external libraries for complex mathematical operations.\n",
        "\n",
        "Memory Layout:\n",
        "\n",
        "NumPy arrays: Store elements in contiguous blocks of memory, which improves cache locality and enables efficient vectorized operations.\n",
        "\n",
        "Python lists: Store pointers to objects that can be located anywhere in memory, leading to potential performance overhead during traversal and access.\n",
        "\n",
        "Broadcasting:\n",
        "\n",
        "NumPy arrays: Support broadcasting, which allows operations between arrays of different shapes and sizes without explicit looping, simplifying code and improving efficiency.\n",
        "\n",
        "Python lists: Do not have built-in broadcasting capabilities.\n",
        "\n",
        "Mutability and Modification:\n",
        "\n",
        "NumPy arrays: Are typically fixed-size once created, although they can be reshaped. Adding or deleting elements can be less straightforward than with lists.\n",
        "\n",
        "Python lists: Are dynamically resizable, allowing for easy addition, deletion, and modification of elements.\n",
        "\n",
        "In summary, Python lists are suitable for general-purpose data storage and manipulation where flexibility and heterogeneous data are required. NumPy arrays are specifically designed for numerical computations, offering superior performance, memory efficiency, and specialized functionalities for working with large datasets of homogeneous numerical data.\n",
        "\n",
        "7. what is a heat map and when should it be used ?\n",
        "\n",
        "A heat map is a data visualization technique that uses colors to represent the magnitude of individual values within a dataset. The variation in color may be by hue or intensity. In essence, a heatmap acts as a color-coded table where the intensity of the color corresponds to the value of the data point, allowing for quick and intuitive understanding of complex datasets.\n",
        "\n",
        "When should heat maps be used?\n",
        "\n",
        "Heatmaps are particularly useful for:\n",
        "\n",
        "Identifying patterns and trends within large datasets: They allow for a quick overview of how values are distributed and where concentrations or outliers exist.\n",
        "\n",
        "Visualizing and analyzing website user behavior: Heatmaps can track clicks, scrolls, mouse movements, and eye-tracking data, revealing areas of a webpage that receive the most (or least) engagement.\n",
        "\n",
        "Understanding and improving conversion rates: By visualizing user behavior, businesses can identify potential bottlenecks in conversion funnels and optimize webpage design or app features to enhance engagement and drive desired actions.\n",
        "\n",
        "Analyzing geographic data: Heatmaps can be used to display population density, property values, crime rates, or environmental conditions across different regions,helping identify areas of high or low density and facilitating targeted interventions.\n",
        "\n",
        "Comparing data across categories: Heatmaps are suitable for visualizing data arranged in a matrix format, facilitating comparisons between multiple variables simultaneously.\n",
        "\n",
        "Simplifying complex data sets: By representing numerical values graphically using color, heatmaps make it easier to interpret complex information at a glance, especially for audiences who may not be accustomed to analyzing large amounts of data.\n",
        "\n",
        "8. What does the term \"vectorised operation\" mean in NumPy ?\n",
        "\n",
        "In NumPy, a \"vectorized operation\" refers to the ability to perform element-wise operations on entire arrays without the need for explicit Python for loops. Instead of iterating through each element individually, these operations leverage highly optimized, pre-compiled C or Fortran code that runs under the hood.\n",
        "\n",
        "Key aspects of vectorized operations:\n",
        "\n",
        "Element-wise application: Operations are applied to corresponding elements across arrays or between an array and a scalar. For example, adding two NumPy arrays arr1 + arr2 will add arr1[0] to arr2[0], arr1[1] to arr2[1], and so on, for all elements.\n",
        "\n",
        "Performance efficiency: Vectorized operations are significantly faster than traditional Python loops, especially for large datasets. This is because they minimize the overhead associated with Python's interpreted nature and delegate the heavy lifting to low-level, compiled code.\n",
        "\n",
        "Conciseness and readability: Vectorized code is typically much shorter and more readable than code that uses explicit loops, as it expresses operations at a higher level of abstraction.\n",
        "\n",
        "Examples: Common examples include mathematical operations (addition, subtraction, multiplication, division), logical operations (comparison, boolean indexing), and universal functions (ufuncs) like np.sin(), np.exp(), etc., which apply a function to each element of an array.\n",
        "\n",
        "In essence, vectorization in NumPy allows you to perform operations on whole arrays as if they were single entities, leading to more efficient, concise, and readable code.\n",
        "\n",
        "9. How does Matplotlib differ from Plotly ?\n",
        "\n",
        "Matplotlib and Plotly are both powerful Python libraries for data visualization, but they differ significantly in their primary focus and capabilities:\n",
        "\n",
        "Interactivity vs. Static Plots:\n",
        "\n",
        "Matplotlib: Primarily designed for creating static, publication-quality plots. While it offers some interactive features, its strength lies in generating highly customizable figures for reports, papers, and non-interactive mediums.\n",
        "\n",
        "Plotly: Excels in creating interactive, web-based visualizations. It is ideal for building dashboards, web applications, and any project where user interaction (like zooming, panning, hovering for details) is crucial.\n",
        "\n",
        "Customization and Control:\n",
        "Matplotlib: Provides granular control over every aspect of a plot, from individual elements like lines and markers to labels and annotations. This allows for extensive customization but can require more verbose code for complex plots.\n",
        "\n",
        "Plotly: Offers a more abstracted approach, especially with Plotly Express, making it quicker to generate common interactive charts with elegant aesthetics. While still customizable, the level of direct control over every minute detail might be less than in Matplotlib.\n",
        "\n",
        "Ease of Use:\n",
        "\n",
        "Matplotlib: Can have a steeper learning curve for beginners due to its extensive API and the need to manage various plot elements explicitly.\n",
        "Plotly Express: Designed for ease of use and rapid prototyping of interactive visualizations, especially for common chart types. Plotly Graph Objects offers more control but requires a deeper understanding of its structure.\n",
        "\n",
        "Output Format:\n",
        "\n",
        "Matplotlib: Typically outputs static image files (PNG, JPEG, PDF, SVG) or displays plots within an IDE.\n",
        "\n",
        "Plotly: Generates interactive HTML files or can be integrated into web applications, allowing for dynamic exploration of data in a browser.\n",
        "\n",
        "In summary, choose Matplotlib for highly customized, static visualizations for formal reports and publications. Opt for Plotly when building interactive dashboards or web applications where user engagement and dynamic exploration of data are key.\n",
        "\n",
        "10. What is the significance of hierarchical indexing in Pandas ?\n",
        "\n",
        "Hierarchical indexing, also known as MultiIndex in pandas, is a significant feature that allows for the representation and manipulation of higher-dimensional data within one-dimensional Series and two-dimensional DataFrame objects. Its significance stems from several key advantages:\n",
        "\n",
        "Representing Complex Relationships: It enables the creation of structured group relationships within data by allowing multiple levels of indexing. This is crucial when dealing with datasets that have natural hierarchies or multiple categorical variables.\n",
        "\n",
        "Enhanced Data Organization and Structure: Hierarchical indexing provides a more intuitive and organized way to structure data, especially when dealing with complex datasets that have multiple levels of categorization. This makes the data more readable and easier to understand.\n",
        "\n",
        "Efficient Data Selection and Subsetting: It facilitates powerful and efficient data selection and subsetting operations. Users can easily slice and dice data across multiple dimensions using various indexing methods, including partial indexing and advanced slicing with tuples.\n",
        "\n",
        "Optimized Grouping and Aggregation: Hierarchical indexing greatly enhances grouping and aggregation capabilities. It allows for grouping data by multiple variables simultaneously and performing complex aggregations across different levels of the hierarchy.\n",
        "\n",
        "Improved Data Analysis and Manipulation: By providing a structured and efficient way to handle multi-dimensional data, hierarchical indexing streamlines complex data analysis and manipulation tasks, making them more manageable and understandable.\n",
        "\n",
        "In essence, hierarchical indexing in pandas provides a robust framework for working with multi-dimensional data, enabling more sophisticated data organization, analysis, and manipulation within the familiar Series and DataFrame structures.\n",
        "\n",
        "11. What is the role of seaborn's pairplot() function ?\n",
        "\n",
        "Seaborn's pairplot() function serves as a powerful tool for visualizing pairwise relationships and distributions within a dataset, particularly during exploratory data analysis (EDA). Its primary role is to generate a grid of plots, where:\n",
        "\n",
        "Diagonal Plots: Display the univariate distribution of each individual variable. By default, these are Kernel Density Estimate (KDE) plots, but they can be customized to show histograms or other distribution plots.\n",
        "\n",
        "Off-Diagonal Plots: Illustrate the bivariate relationship between each pair of variables in the dataset. These are typically scatter plots, revealing potential correlations, clusters, or trends between different features.\n",
        "\n",
        "Key functionalities and benefits of pairplot():\n",
        "\n",
        "Quick Overview of Relationships: Provides a comprehensive \"bird's-eye view\" of how all numerical variables in a dataset interact with each other.\n",
        "Feature Selection Aid: Helps in identifying variables that exhibit strong relationships or distinct patterns, which can be crucial for selecting relevant features for machine learning models.\n",
        "\n",
        "Outlier Detection:\n",
        "\n",
        " Can visually highlight potential outliers or anomalies in the data by observing unusual patterns in the scatter plots.\n",
        "Categorical Variable Integration: Allows for the inclusion of a categorical variable through the hue argument, coloring the points based on different categories and revealing how relationships vary across groups.\n",
        "\n",
        "Customization Options: Offers extensive customization options for plot types, colors, sizes, and other visual aspects, enabling tailored visualizations for specific analytical needs.\n",
        "\n",
        "12. what is the purpose of the describe() function in pandas ?\n",
        "\n",
        "The describe() function in Pandas is used to generate descriptive statistics of a DataFrame or Series. Its primary purpose is to provide a quick summary of the central tendency, dispersion, and shape of the distribution of a dataset.\n",
        "\n",
        "For numerical data, describe() calculates:\n",
        "\n",
        "count: The number of non-null observations.\n",
        "\n",
        "mean: The average value.\n",
        "\n",
        "std: The standard deviation, a measure of the spread of the data.\n",
        "\n",
        "min: The minimum value.\n",
        "\n",
        "25%: The 25th percentile (first quartile).\n",
        "50%: The 50th percentile (median).\n",
        "75%: The 75th percentile (third quartile).\n",
        "max: The maximum value.\n",
        "\n",
        "For object data (e.g., strings or mixed types), describe() provides:\n",
        "\n",
        "count: The number of non-null observations.\n",
        "\n",
        "unique: The number of distinct values.\n",
        "\n",
        "top: The most frequently occurring value.\n",
        "\n",
        "freq: The frequency of the most frequently occurring value.\n",
        "\n",
        "For datetime data, describe() can also provide relevant statistics, including the first and last dates.\n",
        "\n",
        "This function is a valuable tool for initial data exploration and understanding the basic characteristics of your data, helping to identify potential issues like missing values or outliers.\n",
        "\n",
        "13. why is handling missing data is important in pandas ?\n",
        "\n",
        "Handling missing data in Pandas is crucial for several reasons:\n",
        "\n",
        "Ensuring Data Accuracy and Reliability: Missing values (often represented as NaN in Pandas) can skew statistical analyses, lead to incorrect calculations, and misrepresent the true patterns within the data. Ignoring them can result in biased insights and flawed conclusions.\n",
        "\n",
        "Facilitating Data Analysis and Modeling: Many analytical techniques and machine learning algorithms cannot directly handle missing values. Properly addressing missing data is a necessary preprocessing step to enable the use of these tools and ensure their effective operation.\n",
        "\n",
        "Preventing Errors and Inconsistencies: Unhandled missing data can lead to errors during data manipulation, aggregation, or visualization. For example, attempting arithmetic operations on NaN values will propagate NaNs, making it difficult to obtain meaningful results.\n",
        "\n",
        "Maintaining Data Integrity: Deciding how to manage missing data (e.g., imputation, deletion) helps maintain the integrity of the dataset by making conscious choices about how to address incomplete information, rather than letting it passively impact the analysis.\n",
        "\n",
        "Improving Model Performance: In machine learning, the presence of missing values can significantly degrade model performance. Handling them appropriately through techniques like imputation or deletion can lead to more robust and accurate predictive models.\n",
        "\n",
        "In summary, handling missing data in Pandas is a fundamental step in data preprocessing that ensures the quality, reliability, and usability of your data for analysis, visualization, and machine learning.\n",
        "\n",
        "14. What are the benefits of using Plotly for data visualisation ?\n",
        "\n",
        "Plotly offers several benefits for data visualization:\n",
        "\n",
        "Interactivity: Plotly creates interactive visualizations, allowing users to zoom, pan, hover over data points for details, and manipulate elements like sliders or buttons. This enhances data exploration and user engagement.\n",
        "\n",
        "Wide Range of Chart Types: It supports a comprehensive array of plot types, from basic bar and line charts to complex 3D plots, maps, and statistical charts, catering to diverse visualization needs.\n",
        "\n",
        "Web-Based and Offline Capabilities: Visualizations can be generated for web-based applications, embedded in notebooks, or exported as standalone HTML files for offline viewing, providing flexibility in deployment.\n",
        "\n",
        "Customization and Styling: Plotly offers extensive customization options for visual elements like colors, fonts, labels, titles, and annotations, enabling the creation of aesthetically pleasing and informative charts.\n",
        "\n",
        "Ease of Use (especially with Plotly Express): Plotly, particularly with its high-level API Plotly Express, simplifies the creation of complex visualizations with relatively concise code, making it accessible to users with varying levels of programming experience.\n",
        "\n",
        "Integration with Multiple Languages: Plotly integrates seamlessly with popular programming languages like Python, R, and JavaScript, allowing developers to incorporate its visualizations into existing data analysis workflows and web applications.\n",
        "\n",
        "Open-Source and Community Support: Being an open-source library, Plotly benefits from a large and active community, providing resources, support, and ongoing development.\n",
        "\n",
        "15. How does Numpy handle multi dimensioal arrays ?\n",
        "\n",
        "NumPy handles multi-dimensional arrays through its core object, the ndarray. This structure allows for the efficient storage and manipulation of homogeneous data in any number of dimensions.\n",
        "\n",
        "Key aspects of how NumPy handles multi-dimensional arrays include:\n",
        "\n",
        "ndarray structure: The ndarray is a contiguous block of memory storing the array's data, along with metadata that defines its shape, data type, and strides (how many bytes to skip to get to the next element along each dimension).\n",
        "\n",
        "Creation: Multi-dimensional arrays can be created by passing nested lists or tuples to np.array(), or by using factory functions like np.zeros(), np.ones(), or np.empty() with a specified shape tuple.\n",
        "\n",
        "Shape and Dimensions: The shape attribute of an ndarray provides a tuple representing the size of the array along each dimension. For example, a 2D array (matrix) might have a shape of (rows, columns).\n",
        "\n",
        "Indexing and Slicing: Elements or sub-sections of multi-dimensional arrays are accessed using multi-dimensional indexing (e.g., array[row, column]) and slicing, which allows for selecting ranges along each dimension.\n",
        "\n",
        "Reshaping and Transposing: Functions like reshape() allow changing the dimensions of an array without altering its data, as long as the total number of elements remains the same. transpose() and swapaxes() enable rearranging the order of dimensions.\n",
        "\n",
        "Broadcasting: NumPy's broadcasting mechanism enables operations between arrays of different shapes, automatically expanding smaller arrays to match the dimensions of larger ones where appropriate, facilitating efficient element-wise operations.\n",
        "\n",
        "Optimized Operations: NumPy functions are implemented in C, providing highly optimized operations on multi-dimensional arrays, making it significantly faster than standard Python lists for numerical computations.\n",
        "\n",
        "16. What is the role of Bokeh in data Visualisation ?\n",
        "\n",
        "Bokeh's role in data visualization centers on enabling the creation of interactive, web-based visualizations directly from Python. Unlike traditional static plotting libraries, Bokeh renders plots using HTML and JavaScript, making them suitable for modern web browsers and applications without requiring the user to write any JavaScript.\n",
        "\n",
        "Key aspects of Bokeh's role include:\n",
        "\n",
        "Interactive Visualizations: Bokeh excels at building dynamic and interactive plots, allowing users to zoom, pan, select data points, and interact with widgets like sliders and dropdowns to explore data more deeply.\n",
        "\n",
        "Web-Based Deployment: It facilitates the creation of standalone HTML documents, embedded plots within web pages, or server-backed applications and dashboards, making visualizations easily shareable and accessible via a web browser.\n",
        "\n",
        "Expressive Graphics: Bokeh provides a rich set of plotting tools and glyphs to create various chart types, from basic line and scatter plots to complex dashboards with streaming data, offering flexibility in design and customization.\n",
        "\n",
        "Python-centric Workflow: It allows data scientists and developers to build sophisticated web-based visualizations using only Python, abstracting away the complexities of web development and JavaScript.\n",
        "\n",
        "Integration with Data Ecosystem: Bokeh integrates well with other popular Python libraries like Pandas and NumPy, streamlining the data analysis and visualization workflow.\n",
        "\n",
        "17. Explain the difference between apply() and map() in Pandas ?\n",
        "\n",
        "In Pandas, both map() and apply() are used to apply functions or transformations to data, but they differ in their scope and typical use cases:\n",
        "\n",
        "1. map():\n",
        "Scope: Exclusively used on Series objects (e.g., a single column of a DataFrame).\n",
        "\n",
        "Purpose: Primarily for element-wise transformations or substitutions. It's highly efficient when you need to substitute values in a Series based on a dictionary, another Series, or a simple function.\n",
        "\n",
        "Input: Can accept a dictionary, a Series, or a callable (function).\n",
        "\n",
        "Behavior: Substitutes each value in the Series with the corresponding mapped value. If a value is not found in the mapping, it typically results in NaN.\n",
        "\n",
        "2. apply():\n",
        "\n",
        "Scope: Can be used on both Series and DataFrame objects.\n",
        "\n",
        "Purpose: More versatile than map(). It's used to apply a function along an axis (rows or columns) of a DataFrame or to each element of a Series. It's suitable for more complex operations, including aggregations or functions that require access to multiple elements or rows/columns.\n",
        "\n",
        "Input: Accepts a callable (function).\n",
        "\n",
        "Behavior:\n",
        "\n",
        "On a Series: Applies the function element-wise, similar to map(), but offers more flexibility in passing arguments to the function.\n",
        "On a DataFrame: Applies the function row-wise (axis=0 by default) or column-wise (axis=1). The function receives a Series (representing a row or column) as input.\n",
        "\n",
        "\n",
        "Key Differences Summarized:\n",
        "\n",
        "Feature\n",
        "map()\n",
        "apply()\n",
        "\n",
        "Scope\n",
        "Series only\n",
        "Series and DataFrame\n",
        "\n",
        "Purpose\n",
        "Element-wise substitution/transformation\n",
        "Element-wise (Series), row/column-wise (DataFrame) operations\n",
        "\n",
        "Input\n",
        "Dict, Series, or callable\n",
        "Callable (function)\n",
        "\n",
        "Flexibility\n",
        "Less flexible for complex operations\n",
        "More flexible, can handle complex functions and arguments\n",
        "\n",
        "Performance\n",
        "Generally faster for simple element-wise mapping\n",
        "Can be slower for simple element-wise operations compared to map()\n",
        "\n",
        "18. What are some advanced features of NumPy ?\n",
        "\n",
        "Advanced features of NumPy\n",
        "\n",
        "NumPy is a powerhouse in Python for numerical computing, especially known for its efficient handling of multi-dimensional arrays. While its foundational capabilities are widely used, some advanced features can unlock even greater potential:\n",
        "\n",
        "1. Advanced indexing\n",
        "Boolean Indexing: Selecting array elements based on a Boolean condition. For example, filtering elements greater than a certain value from an array.\n",
        "Fancy Indexing: Selecting specific elements using integer arrays as indices, allowing access to non-contiguous elements.\n",
        "\n",
        "Combining with basic slicing: Mixing integer arrays with slices (e.g., x[arr1, :, arr2]) for more complex selections.\n",
        "\n",
        "2. Structured arrays\n",
        "\n",
        "Handling Heterogeneous Data: Allows creation of arrays where each element has multiple fields with different data types, like a database table or spreadsheet.\n",
        "\n",
        "Use Cases: Ideal for storing records with fields like name, age, grade, and integrating with external data sources like CSV or databases.\n",
        "\n",
        "Performance Considerations: While flexible, structured arrays might have performance implications for very large datasets compared to regular arrays.\n",
        "\n",
        "3. Masked arrays\n",
        "\n",
        "Handling Missing or Invalid Data: Used to represent arrays with masked elements, allowing operations to be performed while ignoring the masked values.\n",
        "Mask as a Boolean Array: A Boolean array defines which elements are masked or ignored.\n",
        "\n",
        "Accessing data: Masked arrays can be accessed using standard indexing, compressed() method to get valid elements, or Boolean indexing based on the mask itself.\n",
        "\n",
        "4. Broadcasting\n",
        "\n",
        "Operations on Arrays of Different Shapes: Enables arithmetic operations on arrays with differing shapes by effectively \"stretching\" the smaller array to match the larger one.\n",
        "\n",
        "Internal Implementation: Broadcasting avoids unnecessary data copies by reusing existing data during operations and leverages strides to virtually align arrays.\n",
        "\n",
        "Benefits: Simplifies code by eliminating explicit loops and reshaping, improves performance by using optimized C implementations, and enhances memory efficiency by reducing memory duplication.\n",
        "\n",
        "5. Universal functions (ufuncs)\n",
        "\n",
        "Element-wise Operations: Optimized functions for performing element-wise operations on arrays, such as addition, subtraction, trigonometric functions, and logarithms.\n",
        "\n",
        "Characteristics: Operate on ndarray, are vectorized for speed, support type casting, and are internally implemented in C/Fortran for performance.\n",
        "\n",
        "Beyond Basic Operations: Include comparison, bit-twiddling, rounding, and hyperbolic functions, extending beyond simple arithmetic operations.\n",
        "\n",
        "6. Fourier transforms\n",
        "\n",
        "Signal and Image Processing: Provides functions for Fourier transforms and inverse Fourier transforms, useful for analyzing periodic signals and solving differential equations.\n",
        "\n",
        "Module: Implemented in the numpy.fft module.\n",
        "\n",
        "7. Memory management and optimization\n",
        "\n",
        "Efficient Memory Storage: NumPy arrays store data in contiguous memory blocks, leading to faster access and processing.\n",
        "\n",
        "Choosing Data Types: Selecting appropriate, smaller data types (e.g., int8 over int64) can significantly reduce memory usage.\n",
        "\n",
        "Views vs. Copies: Using array views instead of copies (e.g., slicing) can avoid unnecessary memory allocation.\n",
        "\n",
        "Broadcasting for Memory Efficiency: Broadcasting can reduce memory footprint by reusing data instead of creating temporary arrays.\n",
        "\n",
        "Memory Mapping (np.memmap): Working with large datasets that exceed system memory by storing data on disk and accessing only necessary portions.\n",
        "These advanced features make NumPy a versatile and indispensable tool for tasks involving numerical data in scientific computing, data analysis, and machine learning.\n",
        "\n",
        "19. How does Pandas simplify time series analysis ?\n",
        "\n",
        "Pandas simplifies time series analysis through its robust DatetimeIndex and a suite of specialized functions, making it intuitive to handle time-based data.\n",
        "\n",
        "Key simplifications include:\n",
        "\n",
        "Easy Conversion and Representation: Pandas provides the to_datetime() function to effortlessly convert various date-like formats (strings, epochs) into Timestamp objects and sequences of these into DatetimeIndex. This standardizes time data representation, enabling consistent operations.\n",
        "\n",
        "Time-Based Indexing and Selection: The DatetimeIndex allows for powerful and intuitive time-based indexing using dates and times. Users can select data for specific days, ranges, or even partial strings (e.g., '2024-01' to select all data for January 2024), simplifying data retrieval.\n",
        "\n",
        "Time-Series Specific Operations: Pandas offers built-in functionalities for common time series tasks:\n",
        "\n",
        "Resampling: Easily aggregate or downsample data to different frequencies (e.g., daily data to monthly averages).\n",
        "\n",
        "Time Shifting: Shift data points forward or backward in time, useful for calculating lagged values or comparing data across different periods.\n",
        "Rolling Window Functions: Apply functions (like moving averages) over a sliding window, smoothing data and revealing trends.\n",
        "\n",
        "Accessing Time Components: The .dt accessor provides convenient access to various time-related properties of a DatetimeIndex, such as year, month, day, hour, day of the week, and more, facilitating feature engineering and analysis.\n",
        "Handling Missing Data: Pandas' alignment capabilities and methods for handling missing values (e.g., fillna, interpolate) are particularly useful in time series where gaps can occur.\n",
        "\n",
        "20. What is the role of a pivot table in Pandas ?\n",
        "\n",
        "The pivot_table() function in Pandas plays a crucial role in data analysis and manipulation by creating spreadsheet-style pivot tables as a DataFrame. It allows for the transformation and summarization of data, extracting meaningful insights from large and complex datasets.\n",
        "\n",
        "Key functions of pivot_table()\n",
        "\n",
        "Data Aggregation and Summarization: The primary purpose of pivot_table() is to aggregate and summarize data based on specified criteria. It can calculate various aggregate functions like sum, mean, count, max, min, median, standard deviation, variance, and product, to condense large datasets into easily digestible summaries. For example, you can calculate the total sales for each product category across different regions or the average temperature for each city over time.\n",
        "\n",
        "Data Reshaping and Transformation: pivot_table() reshapes your DataFrame by transforming rows into columns and vice-versa, according to your specified index and columns. This conversion from a \"long\" format to a \"wide\" format helps in easier comparison and analysis of different variables or attributes. For instance, you could reshape a dataset to display sales figures for different products across different regions, side-by-side.\n",
        "\n",
        "Handling Missing Data: The pivot_table() function offers parameters like fill_value and dropna to effectively manage missing values (NaN) in your pivot table. You can replace NaNs with a specific value (e.g., 0) using fill_value, or choose to exclude rows or columns containing missing values using dropna.\n",
        "\n",
        "Multi-level Indexing: pivot_table() supports multi-level or hierarchical indexing for both rows and columns, enabling detailed analysis of complex data across multiple categories or dimensions. This allows for deeper insights into relationships between different variables, such as sales performance by region and product category.\n",
        "\n",
        "Custom Aggregations and Flexible Analysis: Beyond the standard aggregation functions, pivot_table() allows for the use of custom aggregation functions, enabling more specialized and flexible analysis to meet specific needs. You can tailor the pivot table to derive meaningful insights that go beyond simple sums or averages.\n",
        "\n",
        "In essence, pivot_table() acts as a powerful tool for summarizing, exploring, and transforming datasets in Pandas, making it easier to analyze patterns, compare data across different dimensions, and visualize trends for better decision-making.\n",
        "\n",
        "21. Why is NumPy's array slicing faster than Python's List slicing ?\n",
        "\n",
        "NumPy's array slicing is significantly faster than Python's list slicing primarily due to the fundamental differences in how they store data and handle operations.\n",
        "\n",
        "Contiguous Memory Allocation and Homogeneity:\n",
        "\n",
        "NumPy Arrays: NumPy arrays store elements of the same data type in contiguous blocks of memory. This contiguous storage allows for highly optimized, C-level operations, as the CPU can efficiently access and process data in a sequential manner, leveraging cache locality.\n",
        "\n",
        "Python Lists: Python lists can store elements of different data types and are not guaranteed to be stored contiguously in memory. Each element in a Python list is a reference to a Python object, which can be scattered across memory. Slicing a list involves creating a new list and copying these references, potentially involving more memory access and overhead.\n",
        "\n",
        "Vectorized Operations and C Implementation:\n",
        "\n",
        "NumPy Arrays: NumPy operations, including slicing, are often \"vectorized,\" meaning they operate on entire arrays or sub-arrays at once without explicit Python loops. These vectorized operations are implemented in highly optimized C or Fortran code, which executes much faster than Python's interpreted code.\n",
        "\n",
        "Python Lists: List slicing, while appearing concise, still involves Python's interpreted overhead and element-by-element processing in the underlying implementation, even if you don't write an explicit loop.\n",
        "\n",
        "Views vs. Copies (for certain slicing operations):\n",
        "\n",
        "NumPy Arrays: In many slicing scenarios, NumPy creates a \"view\" of the original array rather than a completely new copy of the data. This means the slice references the same memory locations as the original array, avoiding the overhead of data duplication.\n",
        "\n",
        "Python Lists: List slicing always creates a new list containing copies of the elements from the original list, which involves allocating new memory and copying data.\n",
        "\n",
        "These factors combine to make NumPy array slicing a much more efficient and faster operation, especially when dealing with large datasets or performing numerical computations.\n",
        "\n",
        "22. What are some common use cases for seaborn ?\n",
        "\n",
        "Seaborn is a Python data visualization library built on Matplotlib, commonly used for creating informative and aesthetically pleasing statistical graphics.\n",
        "\n",
        " Its common use cases include:\n",
        "\n",
        "Exploring Data Distributions: Visualizing the distribution of a single variable (univariate analysis) using plots like histograms, kernel density estimates (KDEs), or box plots to understand the data's shape, central tendency, and spread.\n",
        "\n",
        "Analyzing Relationships Between Variables:\n",
        "Numerical Relationships: Using scatter plots to show the relationship between two continuous variables, or line plots to visualize trends over time or across a continuous range.\n",
        "\n",
        "Categorical Relationships: Employing categorical plots such as bar plots, count plots, box plots, or violin plots to compare numerical values across different categories or to visualize the distribution of a categorical variable.\n",
        "\n",
        "Regression Analysis: Creating regression plots to visualize the relationship between variables and the fit of a linear regression model.\n",
        "\n",
        "Visualizing Complex Datasets:\n",
        "Heatmaps: Representing matrices of data, such as correlation matrices or confusion matrices, where color intensity indicates the value.\n",
        "\n",
        "Facet Grids: Creating grids of subplots to explore relationships within different subsets of the data based on categorical or other grouping variables.\n",
        "\n",
        "Statistical Data Exploration: Seaborn's functions often include built-in statistical estimations, such as confidence intervals or regression lines, which aid in understanding the statistical properties of the data.\n",
        "\n",
        "Creating Publication-Quality Graphics: Seaborn offers attractive default styles, color palettes, and themes that produce visually appealing plots suitable for presentations, reports, and publications.\n",
        "\n",
        "\n",
        "\n",
        "\n",
        "\n",
        "\n",
        "\n",
        "\n",
        "\n",
        "\n",
        "\n",
        "\n",
        "\n",
        "\n",
        "\n",
        "\n",
        "\n",
        "\n",
        "\n",
        "\n",
        "\n",
        "\n",
        "\n",
        "\n",
        "\n",
        "\n",
        "\n",
        "\n",
        "\n",
        "\n",
        "\n",
        "\n",
        "\n"
      ],
      "metadata": {
        "id": "eLe9Aq-2qIGl"
      }
    },
    {
      "cell_type": "code",
      "source": [
        "!pip install numpy"
      ],
      "metadata": {
        "colab": {
          "base_uri": "https://localhost:8080/"
        },
        "id": "Ef9rnqf6Juv_",
        "outputId": "b9f689f7-09e7-4c70-8f4e-e83a968b560a"
      },
      "execution_count": 2,
      "outputs": [
        {
          "output_type": "stream",
          "name": "stdout",
          "text": [
            "Requirement already satisfied: numpy in /usr/local/lib/python3.12/dist-packages (2.0.2)\n"
          ]
        }
      ]
    },
    {
      "cell_type": "code",
      "source": [
        "# 1. How do you create a 2D NumPY array and calculate the sum of each row ?\n",
        "\n",
        "import numpy as np\n",
        "\n",
        "my_array = np.array([[1, 2, 3], [4, 5, 6], [7, 8, 9]])\n",
        "\n",
        "row_sums = np.sum(my_array, axis=1)\n",
        "print(row_sums)"
      ],
      "metadata": {
        "colab": {
          "base_uri": "https://localhost:8080/"
        },
        "id": "L2D7eIVap-bP",
        "outputId": "54310772-92c8-49d5-bef7-b07d5793e097"
      },
      "execution_count": 1,
      "outputs": [
        {
          "output_type": "stream",
          "name": "stdout",
          "text": [
            "[ 6 15 24]\n"
          ]
        }
      ]
    },
    {
      "cell_type": "code",
      "source": [
        "# 2. Write a Panda Script to find the mean of a specific column in a DataFrame\n",
        "import pandas as pd\n",
        "\n",
        "\n",
        "data = {'Name': ['Alice', 'Bob', 'Charlie', 'David'],\n",
        "        'Age': [25, 30, 22, 28],\n",
        "        'Score': [85, 92, 78, 95]}\n",
        "df = pd.DataFrame(data)\n",
        "\n",
        "\n",
        "mean_score = df['Score'].mean()\n",
        "\n",
        "print(f\"The mean of the 'Score' column is: {mean_score}\")\n",
        "\n",
        "\n"
      ],
      "metadata": {
        "colab": {
          "base_uri": "https://localhost:8080/"
        },
        "id": "vqhP6d7mp-Ym",
        "outputId": "86640c1d-80a7-4c07-e70b-5916eb06ab51"
      },
      "execution_count": 2,
      "outputs": [
        {
          "output_type": "stream",
          "name": "stdout",
          "text": [
            "The mean of the 'Score' column is: 87.5\n"
          ]
        }
      ]
    },
    {
      "cell_type": "code",
      "source": [
        "#3. Create a scatter plot using Matplotlib.\n",
        "\n",
        "import matplotlib.pyplot as plt\n",
        "import numpy as np\n",
        "\n",
        "\n",
        "x = np.array([1, 2, 3, 4, 5, 6, 7, 8, 9, 10])\n",
        "y = np.array([2, 5, 3, 7, 6, 9, 8, 10, 4, 1])\n",
        "\n",
        "plt.scatter(x, y)\n",
        "\n",
        "\n",
        "plt.title(\"Sample Scatter Plot\")\n",
        "plt.xlabel(\"X-axis Label\")\n",
        "plt.ylabel(\"Y-axis Label\")\n",
        "\n",
        "\n",
        "plt.show()"
      ],
      "metadata": {
        "colab": {
          "base_uri": "https://localhost:8080/",
          "height": 472
        },
        "id": "0kkiwvjCp-Vt",
        "outputId": "d4ad8dd6-eb79-44b3-c636-85d51a035223"
      },
      "execution_count": 3,
      "outputs": [
        {
          "output_type": "display_data",
          "data": {
            "text/plain": [
              "<Figure size 640x480 with 1 Axes>"
            ],
            "image/png": "[encoded data removed]"
          },
          "metadata": {}
        }
      ]
    },
    {
      "cell_type": "code",
      "source": [
        "#4. How do you calculate the correlation matrix using seaborn and visualise it with a heatmap ?\n",
        "\n",
        "import pandas as pd\n",
        "import seaborn as sns\n",
        "import matplotlib.pyplot as plt\n",
        "\n",
        "data = {\n",
        "      'A': [1, 2, 3, 4, 5],\n",
        "      'B': [5, 4, 3, 2, 1],\n",
        "      'C': [2, 3, 4, 5, 4],\n",
        "      'D': [4, 5, 2, 1, 3]\n",
        "  }\n",
        "df = pd.DataFrame(data)\n",
        "\n",
        "correlation_matrix = df.corr()\n",
        "print(correlation_matrix)\n",
        "\n",
        "plt.figure(figsize=(8, 6))\n",
        "sns.heatmap(correlation_matrix, annot=True, cmap='coolwarm', vmin=-1, vmax=1, fmt=\".2f\")\n",
        "plt.title('Correlation Heatmap')\n",
        "plt.show()"
      ],
      "metadata": {
        "colab": {
          "base_uri": "https://localhost:8080/",
          "height": 630
        },
        "id": "vdvSrFqsp-S7",
        "outputId": "181655eb-c64e-416d-eff2-34b94a2f35f1"
      },
      "execution_count": 5,
      "outputs": [
        {
          "output_type": "stream",
          "name": "stdout",
          "text": [
            "         A        B        C        D\n",
            "A  1.00000 -1.00000  0.83205 -0.60000\n",
            "B -1.00000  1.00000 -0.83205  0.60000\n",
            "C  0.83205 -0.83205  1.00000 -0.83205\n",
            "D -0.60000  0.60000 -0.83205  1.00000\n"
          ]
        },
        {
          "output_type": "display_data",
          "data": {
            "text/plain": [
              "<Figure size 800x600 with 2 Axes>"
            ],
            "image/png": "[encoded data removed]"
          },
          "metadata": {}
        }
      ]
    },
    {
      "cell_type": "code",
      "source": [
        "#5. Generate a barplot using Plotly\n",
        "import plotly.express as px\n",
        "import pandas as pd\n",
        "\n",
        "\n",
        "data = {\n",
        "    'Category': ['A', 'B', 'C', 'D'],\n",
        "    'Value': [10, 25, 15, 30]\n",
        "}\n",
        "df = pd.DataFrame(data)\n",
        "\n",
        "\n",
        "fig = px.bar(df, x='Category', y='Value', title='Simple Bar Plot')\n",
        "\n",
        "\n",
        "fig.show()"
      ],
      "metadata": {
        "colab": {
          "base_uri": "https://localhost:8080/",
          "height": 542
        },
        "id": "r0xfDT9fp-P_",
        "outputId": "72c20933-91dd-4f54-8c40-5cbc19661471"
      },
      "execution_count": 6,
      "outputs": [
        {
          "output_type": "display_data",
          "data": {
            "text/html": [
              "<html>\n",
              "<head><meta charset=\"utf-8\" /></head>\n",
              "<body>\n",
              "    <div>            <script src=\"https://cdnjs.cloudflare.com/ajax/libs/mathjax/2.7.5/MathJax.js?config=TeX-AMS-MML_SVG\"></script><script type=\"text/javascript\">if (window.MathJax && window.MathJax.Hub && window.MathJax.Hub.Config) {window.MathJax.Hub.Config({SVG: {font: \"STIX-Web\"}});}</script>                <script type=\"text/javascript\">window.PlotlyConfig = {MathJaxConfig: 'local'};</script>\n",
              "        <script charset=\"utf-8\" src=\"https://cdn.plot.ly/plotly-2.35.2.min.js\"></script>                <div id=\"6894891c-ecd0-4bca-8d1c-e4f7d6aa9613\" class=\"plotly-graph-div\" style=\"height:525px; width:100%;\"></div>            <script type=\"text/javascript\">                                    window.PLOTLYENV=window.PLOTLYENV || {};                                    if (document.getElementById(\"6894891c-ecd0-4bca-8d1c-e4f7d6aa9613\")) {                    Plotly.newPlot(                        \"6894891c-ecd0-4bca-8d1c-e4f7d6aa9613\",                        [{\"alignmentgroup\":\"True\",\"hovertemplate\":\"Category=%{x}\\u003cbr\\u003eValue=%{y}\\u003cextra\\u003e\\u003c\\u002fextra\\u003e\",\"legendgroup\":\"\",\"marker\":{\"color\":\"#636efa\",\"pattern\":{\"shape\":\"\"}},\"name\":\"\",\"offsetgroup\":\"\",\"orientation\":\"v\",\"showlegend\":false,\"textposition\":\"auto\",\"x\":[\"A\",\"B\",\"C\",\"D\"],\"xaxis\":\"x\",\"y\":[10,25,15,30],\"yaxis\":\"y\",\"type\":\"bar\"}],                        {\"template\":{\"data\":{\"histogram2dcontour\":[{\"type\":\"histogram2dcontour\",\"colorbar\":{\"outlinewidth\":0,\"ticks\":\"\"},\"colorscale\":[[0.0,\"#0d0887\"],[0.1111111111111111,\"#46039f\"],[0.2222222222222222,\"#7201a8\"],[0.3333333333333333,\"#9c179e\"],[0.4444444444444444,\"#bd3786\"],[0.5555555555555556,\"#d8576b\"],[0.6666666666666666,\"#ed7953\"],[0.7777777777777778,\"#fb9f3a\"],[0.8888888888888888,\"#fdca26\"],[1.0,\"#f0f921\"]]}],\"choropleth\":[{\"type\":\"choropleth\",\"colorbar\":{\"outlinewidth\":0,\"ticks\":\"\"}}],\"histogram2d\":[{\"type\":\"histogram2d\",\"colorbar\":{\"outlinewidth\":0,\"ticks\":\"\"},\"colorscale\":[[0.0,\"#0d0887\"],[0.1111111111111111,\"#46039f\"],[0.2222222222222222,\"#7201a8\"],[0.3333333333333333,\"#9c179e\"],[0.4444444444444444,\"#bd3786\"],[0.5555555555555556,\"#d8576b\"],[0.6666666666666666,\"#ed7953\"],[0.7777777777777778,\"#fb9f3a\"],[0.8888888888888888,\"#fdca26\"],[1.0,\"#f0f921\"]]}],\"heatmap\":[{\"type\":\"heatmap\",\"colorbar\":{\"outlinewidth\":0,\"ticks\":\"\"},\"colorscale\":[[0.0,\"#0d0887\"],[0.1111111111111111,\"#46039f\"],[0.2222222222222222,\"#7201a8\"],[0.3333333333333333,\"#9c179e\"],[0.4444444444444444,\"#bd3786\"],[0.5555555555555556,\"#d8576b\"],[0.6666666666666666,\"#ed7953\"],[0.7777777777777778,\"#fb9f3a\"],[0.8888888888888888,\"#fdca26\"],[1.0,\"#f0f921\"]]}],\"heatmapgl\":[{\"type\":\"heatmapgl\",\"colorbar\":{\"outlinewidth\":0,\"ticks\":\"\"},\"colorscale\":[[0.0,\"#0d0887\"],[0.1111111111111111,\"#46039f\"],[0.2222222222222222,\"#7201a8\"],[0.3333333333333333,\"#9c179e\"],[0.4444444444444444,\"#bd3786\"],[0.5555555555555556,\"#d8576b\"],[0.6666666666666666,\"#ed7953\"],[0.7777777777777778,\"#fb9f3a\"],[0.8888888888888888,\"#fdca26\"],[1.0,\"#f0f921\"]]}],\"contourcarpet\":[{\"type\":\"contourcarpet\",\"colorbar\":{\"outlinewidth\":0,\"ticks\":\"\"}}],\"contour\":[{\"type\":\"contour\",\"colorbar\":{\"outlinewidth\":0,\"ticks\":\"\"},\"colorscale\":[[0.0,\"#0d0887\"],[0.1111111111111111,\"#46039f\"],[0.2222222222222222,\"#7201a8\"],[0.3333333333333333,\"#9c179e\"],[0.4444444444444444,\"#bd3786\"],[0.5555555555555556,\"#d8576b\"],[0.6666666666666666,\"#ed7953\"],[0.7777777777777778,\"#fb9f3a\"],[0.8888888888888888,\"#fdca26\"],[1.0,\"#f0f921\"]]}],\"surface\":[{\"type\":\"surface\",\"colorbar\":{\"outlinewidth\":0,\"ticks\":\"\"},\"colorscale\":[[0.0,\"#0d0887\"],[0.1111111111111111,\"#46039f\"],[0.2222222222222222,\"#7201a8\"],[0.3333333333333333,\"#9c179e\"],[0.4444444444444444,\"#bd3786\"],[0.5555555555555556,\"#d8576b\"],[0.6666666666666666,\"#ed7953\"],[0.7777777777777778,\"#fb9f3a\"],[0.8888888888888888,\"#fdca26\"],[1.0,\"#f0f921\"]]}],\"mesh3d\":[{\"type\":\"mesh3d\",\"colorbar\":{\"outlinewidth\":0,\"ticks\":\"\"}}],\"scatter\":[{\"fillpattern\":{\"fillmode\":\"overlay\",\"size\":10,\"solidity\":0.2},\"type\":\"scatter\"}],\"parcoords\":[{\"type\":\"parcoords\",\"line\":{\"colorbar\":{\"outlinewidth\":0,\"ticks\":\"\"}}}],\"scatterpolargl\":[{\"type\":\"scatterpolargl\",\"marker\":{\"colorbar\":{\"outlinewidth\":0,\"ticks\":\"\"}}}],\"bar\":[{\"error_x\":{\"color\":\"#2a3f5f\"},\"error_y\":{\"color\":\"#2a3f5f\"},\"marker\":{\"line\":{\"color\":\"#E5ECF6\",\"width\":0.5},\"pattern\":{\"fillmode\":\"overlay\",\"size\":10,\"solidity\":0.2}},\"type\":\"bar\"}],\"scattergeo\":[{\"type\":\"scattergeo\",\"marker\":{\"colorbar\":{\"outlinewidth\":0,\"ticks\":\"\"}}}],\"scatterpolar\":[{\"type\":\"scatterpolar\",\"marker\":{\"colorbar\":{\"outlinewidth\":0,\"ticks\":\"\"}}}],\"histogram\":[{\"marker\":{\"pattern\":{\"fillmode\":\"overlay\",\"size\":10,\"solidity\":0.2}},\"type\":\"histogram\"}],\"scattergl\":[{\"type\":\"scattergl\",\"marker\":{\"colorbar\":{\"outlinewidth\":0,\"ticks\":\"\"}}}],\"scatter3d\":[{\"type\":\"scatter3d\",\"line\":{\"colorbar\":{\"outlinewidth\":0,\"ticks\":\"\"}},\"marker\":{\"colorbar\":{\"outlinewidth\":0,\"ticks\":\"\"}}}],\"scattermapbox\":[{\"type\":\"scattermapbox\",\"marker\":{\"colorbar\":{\"outlinewidth\":0,\"ticks\":\"\"}}}],\"scatterternary\":[{\"type\":\"scatterternary\",\"marker\":{\"colorbar\":{\"outlinewidth\":0,\"ticks\":\"\"}}}],\"scattercarpet\":[{\"type\":\"scattercarpet\",\"marker\":{\"colorbar\":{\"outlinewidth\":0,\"ticks\":\"\"}}}],\"carpet\":[{\"aaxis\":{\"endlinecolor\":\"#2a3f5f\",\"gridcolor\":\"white\",\"linecolor\":\"white\",\"minorgridcolor\":\"white\",\"startlinecolor\":\"#2a3f5f\"},\"baxis\":{\"endlinecolor\":\"#2a3f5f\",\"gridcolor\":\"white\",\"linecolor\":\"white\",\"minorgridcolor\":\"white\",\"startlinecolor\":\"#2a3f5f\"},\"type\":\"carpet\"}],\"table\":[{\"cells\":{\"fill\":{\"color\":\"#EBF0F8\"},\"line\":{\"color\":\"white\"}},\"header\":{\"fill\":{\"color\":\"#C8D4E3\"},\"line\":{\"color\":\"white\"}},\"type\":\"table\"}],\"barpolar\":[{\"marker\":{\"line\":{\"color\":\"#E5ECF6\",\"width\":0.5},\"pattern\":{\"fillmode\":\"overlay\",\"size\":10,\"solidity\":0.2}},\"type\":\"barpolar\"}],\"pie\":[{\"automargin\":true,\"type\":\"pie\"}]},\"layout\":{\"autotypenumbers\":\"strict\",\"colorway\":[\"#636efa\",\"#EF553B\",\"#00cc96\",\"#ab63fa\",\"#FFA15A\",\"#19d3f3\",\"#FF6692\",\"#B6E880\",\"#FF97FF\",\"#FECB52\"],\"font\":{\"color\":\"#2a3f5f\"},\"hovermode\":\"closest\",\"hoverlabel\":{\"align\":\"left\"},\"paper_bgcolor\":\"white\",\"plot_bgcolor\":\"#E5ECF6\",\"polar\":{\"bgcolor\":\"#E5ECF6\",\"angularaxis\":{\"gridcolor\":\"white\",\"linecolor\":\"white\",\"ticks\":\"\"},\"radialaxis\":{\"gridcolor\":\"white\",\"linecolor\":\"white\",\"ticks\":\"\"}},\"ternary\":{\"bgcolor\":\"#E5ECF6\",\"aaxis\":{\"gridcolor\":\"white\",\"linecolor\":\"white\",\"ticks\":\"\"},\"baxis\":{\"gridcolor\":\"white\",\"linecolor\":\"white\",\"ticks\":\"\"},\"caxis\":{\"gridcolor\":\"white\",\"linecolor\":\"white\",\"ticks\":\"\"}},\"coloraxis\":{\"colorbar\":{\"outlinewidth\":0,\"ticks\":\"\"}},\"colorscale\":{\"sequential\":[[0.0,\"#0d0887\"],[0.1111111111111111,\"#46039f\"],[0.2222222222222222,\"#7201a8\"],[0.3333333333333333,\"#9c179e\"],[0.4444444444444444,\"#bd3786\"],[0.5555555555555556,\"#d8576b\"],[0.6666666666666666,\"#ed7953\"],[0.7777777777777778,\"#fb9f3a\"],[0.8888888888888888,\"#fdca26\"],[1.0,\"#f0f921\"]],\"sequentialminus\":[[0.0,\"#0d0887\"],[0.1111111111111111,\"#46039f\"],[0.2222222222222222,\"#7201a8\"],[0.3333333333333333,\"#9c179e\"],[0.4444444444444444,\"#bd3786\"],[0.5555555555555556,\"#d8576b\"],[0.6666666666666666,\"#ed7953\"],[0.7777777777777778,\"#fb9f3a\"],[0.8888888888888888,\"#fdca26\"],[1.0,\"#f0f921\"]],\"diverging\":[[0,\"#8e0152\"],[0.1,\"#c51b7d\"],[0.2,\"#de77ae\"],[0.3,\"#f1b6da\"],[0.4,\"#fde0ef\"],[0.5,\"#f7f7f7\"],[0.6,\"#e6f5d0\"],[0.7,\"#b8e186\"],[0.8,\"#7fbc41\"],[0.9,\"#4d9221\"],[1,\"#276419\"]]},\"xaxis\":{\"gridcolor\":\"white\",\"linecolor\":\"white\",\"ticks\":\"\",\"title\":{\"standoff\":15},\"zerolinecolor\":\"white\",\"automargin\":true,\"zerolinewidth\":2},\"yaxis\":{\"gridcolor\":\"white\",\"linecolor\":\"white\",\"ticks\":\"\",\"title\":{\"standoff\":15},\"zerolinecolor\":\"white\",\"automargin\":true,\"zerolinewidth\":2},\"scene\":{\"xaxis\":{\"backgroundcolor\":\"#E5ECF6\",\"gridcolor\":\"white\",\"linecolor\":\"white\",\"showbackground\":true,\"ticks\":\"\",\"zerolinecolor\":\"white\",\"gridwidth\":2},\"yaxis\":{\"backgroundcolor\":\"#E5ECF6\",\"gridcolor\":\"white\",\"linecolor\":\"white\",\"showbackground\":true,\"ticks\":\"\",\"zerolinecolor\":\"white\",\"gridwidth\":2},\"zaxis\":{\"backgroundcolor\":\"#E5ECF6\",\"gridcolor\":\"white\",\"linecolor\":\"white\",\"showbackground\":true,\"ticks\":\"\",\"zerolinecolor\":\"white\",\"gridwidth\":2}},\"shapedefaults\":{\"line\":{\"color\":\"#2a3f5f\"}},\"annotationdefaults\":{\"arrowcolor\":\"#2a3f5f\",\"arrowhead\":0,\"arrowwidth\":1},\"geo\":{\"bgcolor\":\"white\",\"landcolor\":\"#E5ECF6\",\"subunitcolor\":\"white\",\"showland\":true,\"showlakes\":true,\"lakecolor\":\"white\"},\"title\":{\"x\":0.05},\"mapbox\":{\"style\":\"light\"}}},\"xaxis\":{\"anchor\":\"y\",\"domain\":[0.0,1.0],\"title\":{\"text\":\"Category\"}},\"yaxis\":{\"anchor\":\"x\",\"domain\":[0.0,1.0],\"title\":{\"text\":\"Value\"}},\"legend\":{\"tracegroupgap\":0},\"title\":{\"text\":\"Simple Bar Plot\"},\"barmode\":\"relative\"},                        {\"responsive\": true}                    ).then(function(){\n",
              "                            \n",
              "var gd = document.getElementById('6894891c-ecd0-4bca-8d1c-e4f7d6aa9613');\n",
              "var x = new MutationObserver(function (mutations, observer) {{\n",
              "        var display = window.getComputedStyle(gd).display;\n",
              "        if (!display || display === 'none') {{\n",
              "            console.log([gd, 'removed!']);\n",
              "            Plotly.purge(gd);\n",
              "            observer.disconnect();\n",
              "        }}\n",
              "}});\n",
              "\n",
              "// Listen for the removal of the full notebook cells\n",
              "var notebookContainer = gd.closest('#notebook-container');\n",
              "if (notebookContainer) {{\n",
              "    x.observe(notebookContainer, {childList: true});\n",
              "}}\n",
              "\n",
              "// Listen for the clearing of the current output cell\n",
              "var outputEl = gd.closest('.output');\n",
              "if (outputEl) {{\n",
              "    x.observe(outputEl, {childList: true});\n",
              "}}\n",
              "\n",
              "                        })                };                            </script>        </div>\n",
              "</body>\n",
              "</html>"
            ]
          },
          "metadata": {}
        }
      ]
    },
    {
      "cell_type": "code",
      "source": [
        "#6. Create a Data Frame and add a new column based on an existing column\n",
        "\n",
        "import pandas as pd\n",
        "data = {'Name': ['Alice', 'Bob', 'Charlie', 'David'],\n",
        "        'Age': [25, 30, 22, 35],\n",
        "        'Salary': [50000, 60000, 45000, 70000]}\n",
        "df = pd.DataFrame(data)\n",
        "print(\"Original DataFrame:\")\n",
        "print(df)\n",
        "df['Bonus'] = df['Salary'] * 0.10\n",
        "print(\"\\nDataFrame with new 'Bonus' column:\")\n",
        "print(df)"
      ],
      "metadata": {
        "colab": {
          "base_uri": "https://localhost:8080/"
        },
        "id": "lN9_NEUMp-M2",
        "outputId": "c7bccb3c-10c3-456e-a27a-1f1b271aed8c"
      },
      "execution_count": 8,
      "outputs": [
        {
          "output_type": "stream",
          "name": "stdout",
          "text": [
            "Original DataFrame:\n",
            "      Name  Age  Salary\n",
            "0    Alice   25   50000\n",
            "1      Bob   30   60000\n",
            "2  Charlie   22   45000\n",
            "3    David   35   70000\n",
            "\n",
            "DataFrame with new 'Bonus' column:\n",
            "      Name  Age  Salary   Bonus\n",
            "0    Alice   25   50000  5000.0\n",
            "1      Bob   30   60000  6000.0\n",
            "2  Charlie   22   45000  4500.0\n",
            "3    David   35   70000  7000.0\n"
          ]
        }
      ]
    },
    {
      "cell_type": "code",
      "source": [
        "#7. Write a program to perform element-multiplication of two NumPy arrays.\n",
        "\n",
        "import numpy as np\n",
        "\n",
        "\n",
        "array1 = np.array([1, 2, 3, 4, 5])\n",
        "array2 = np.array([6, 7, 8, 9, 10])\n",
        "\n",
        "result_operator = array1 * array2\n",
        "print(f\"Result using * operator: {result_operator}\")\n",
        "\n",
        "result_function = np.multiply(array1, array2)\n",
        "print(f\"Result using numpy.multiply() function: {result_function}\")\n",
        "\n",
        "\n",
        "array3 = np.array([[1, 2], [3, 4]])\n",
        "array4 = np.array([[5, 6], [7, 8]])\n",
        "\n",
        "result_2d = array3 * array4\n",
        "print(f\"\\nResult of 2D array element-wise multiplication:\\n{result_2d}\")"
      ],
      "metadata": {
        "colab": {
          "base_uri": "https://localhost:8080/"
        },
        "id": "548Uo1qvp-Jw",
        "outputId": "eb518edb-512f-42a0-f4c6-1dd3e0f96f71"
      },
      "execution_count": 9,
      "outputs": [
        {
          "output_type": "stream",
          "name": "stdout",
          "text": [
            "Result using * operator: [ 6 14 24 36 50]\n",
            "Result using numpy.multiply() function: [ 6 14 24 36 50]\n",
            "\n",
            "Result of 2D array element-wise multiplication:\n",
            "[[ 5 12]\n",
            " [21 32]]\n"
          ]
        }
      ]
    },
    {
      "cell_type": "code",
      "source": [
        "#8. Create a line plot with multiple lines using Matplotlib\n",
        "import matplotlib.pyplot as plt\n",
        "x = [1, 2, 3, 4, 5]\n",
        "y1 = [2, 4, 6, 8, 10]\n",
        "y2 = [1, 3, 5, 7, 9]\n",
        "y3 = [5, 4, 3, 2, 1]\n",
        "plt.plot(x, y1, label='Line 1')\n",
        "plt.plot(x, y2, label='Line 2', linestyle='--') # Example of a dashed line\n",
        "plt.plot(x, y3, label='Line 3', marker='o') # Example with markers\n",
        "\n",
        "plt.title('Multiple Lines Plot')\n",
        "plt.xlabel('X-axis')\n",
        "plt.ylabel('Y-axis')\n",
        "plt.legend() # Displays the labels defined in plt.plot()\n",
        "plt.show()"
      ],
      "metadata": {
        "colab": {
          "base_uri": "https://localhost:8080/",
          "height": 472
        },
        "id": "T3vkF6Ucp-Gm",
        "outputId": "feb4c571-faf1-4814-e237-f25c134c524a"
      },
      "execution_count": 11,
      "outputs": [
        {
          "output_type": "display_data",
          "data": {
            "text/plain": [
              "<Figure size 640x480 with 1 Axes>"
            ],
            "image/png": "[encoded data removed]"
          },
          "metadata": {}
        }
      ]
    },
    {
      "cell_type": "code",
      "source": [
        "#9.Generate a Pandas Data Frame and filter rows where a column value is greater than a threshold\n",
        "import pandas as pd\n",
        "data = {\n",
        "    'Name': ['Alice', 'Bob', 'Charlie', 'David', 'Eve'],\n",
        "    'Age': [25, 30, 22, 35, 28],\n",
        "    'Score': [85, 92, 78, 95, 88]\n",
        "}\n",
        "df = pd.DataFrame(data)\n",
        "print(\"Original DataFrame:\")\n",
        "print(df)\n",
        "\n",
        "threshold_score = 90\n",
        "filtered_df = df[df['Score'] > threshold_score]\n",
        "print(\"\\nFiltered DataFrame (Score > 90):\")\n",
        "print(filtered_df)"
      ],
      "metadata": {
        "colab": {
          "base_uri": "https://localhost:8080/"
        },
        "id": "2JkfTEOUp-Dx",
        "outputId": "4b2dbcd0-e6d8-4b6c-8233-049cb13f438f"
      },
      "execution_count": 13,
      "outputs": [
        {
          "output_type": "stream",
          "name": "stdout",
          "text": [
            "Original DataFrame:\n",
            "      Name  Age  Score\n",
            "0    Alice   25     85\n",
            "1      Bob   30     92\n",
            "2  Charlie   22     78\n",
            "3    David   35     95\n",
            "4      Eve   28     88\n",
            "\n",
            "Filtered DataFrame (Score > 90):\n",
            "    Name  Age  Score\n",
            "1    Bob   30     92\n",
            "3  David   35     95\n"
          ]
        }
      ]
    },
    {
      "cell_type": "code",
      "source": [
        "#10. Create a histogram using seaborn to visualise a distribution\n",
        "import seaborn as sns\n",
        "import matplotlib.pyplot as plt\n",
        "import pandas as pd\n",
        "import numpy as np\n",
        "data = {'value': np.random.normal(loc=50, scale=10, size=1000)}\n",
        "df = pd.DataFrame(data)\n",
        "\n",
        "sns.histplot(data=df, x='value')\n",
        "sns.histplot(data=df, x='value', kde=True)\n",
        "sns.histplot(data=df, x='value', bins=20)\n",
        "plt.title('Distribution of Sample Values')\n",
        "plt.xlabel('Value')\n",
        "plt.ylabel('Frequency')\n",
        "plt.show()"
      ],
      "metadata": {
        "colab": {
          "base_uri": "https://localhost:8080/",
          "height": 472
        },
        "id": "ayoB8BVsp-Ab",
        "outputId": "adb6639e-ecb6-4e86-ed0e-8ee23d26faa9"
      },
      "execution_count": 15,
      "outputs": [
        {
          "output_type": "display_data",
          "data": {
            "text/plain": [
              "<Figure size 640x480 with 1 Axes>"
            ],
            "image/png": "[encoded data removed]"
          },
          "metadata": {}
        }
      ]
    },
    {
      "cell_type": "code",
      "source": [
        "#11. Perform matrix multiplication using NumPy\n",
        "import numpy as np\n",
        "\n",
        "\n",
        "matrix_a = np.array([[1, 2],\n",
        "                     [3, 4]])\n",
        "\n",
        "matrix_b = np.array([[5, 6],\n",
        "                     [7, 8]])\n",
        "\n",
        "\n",
        "result_matmul = np.matmul(matrix_a, matrix_b)\n",
        "\n",
        "print(\"Matrix A:\")\n",
        "print(matrix_a)\n",
        "print(\"\\nMatrix B:\")\n",
        "print(matrix_b)\n",
        "print(\"\\nResult using numpy.matmul():\")\n",
        "print(result_matmul)"
      ],
      "metadata": {
        "colab": {
          "base_uri": "https://localhost:8080/"
        },
        "id": "byCd6QDip99w",
        "outputId": "b8137923-cbb2-4448-8afb-566402a2525e"
      },
      "execution_count": 16,
      "outputs": [
        {
          "output_type": "stream",
          "name": "stdout",
          "text": [
            "Matrix A:\n",
            "[[1 2]\n",
            " [3 4]]\n",
            "\n",
            "Matrix B:\n",
            "[[5 6]\n",
            " [7 8]]\n",
            "\n",
            "Result using numpy.matmul():\n",
            "[[19 22]\n",
            " [43 50]]\n"
          ]
        }
      ]
    },
    {
      "cell_type": "code",
      "source": [
        "#12. Use Pandas to load a CSV file and display its first 5 rows\n",
        "import pandas as pd\n",
        "\n",
        "\n",
        "csv_file_path = '/content/drive/MyDrive/people_data.csv'\n",
        "\n",
        "\n",
        "df = pd.read_csv(csv_file_path, nrows=5)\n",
        "\n",
        "\n",
        "print(df.head())"
      ],
      "metadata": {
        "colab": {
          "base_uri": "https://localhost:8080/"
        },
        "id": "rNmHu8sfp965",
        "outputId": "30658264-2e45-4214-e92b-f5a9ecbba1ab"
      },
      "execution_count": 26,
      "outputs": [
        {
          "output_type": "stream",
          "name": "stdout",
          "text": [
            "  First Name Last Name     Sex                       Email Date of birth  \\\n",
            "0     Shelby   Terrell    Male        elijah57@example.net    1945-10-26   \n",
            "1    Phillip   Summers  Female       bethany14@example.com    1910-03-24   \n",
            "2   Kristine    Travis    Male       bthompson@example.com    1992-07-02   \n",
            "3    Yesenia  Martinez    Male   kaitlinkaiser@example.com    2017-08-03   \n",
            "4       Lori      Todd    Male  buchananmanuel@example.net    1938-12-01   \n",
            "\n",
            "            Job Title  \n",
            "0     Games developer  \n",
            "1      Phytotherapist  \n",
            "2           Homeopath  \n",
            "3   Market researcher  \n",
            "4  Veterinary surgeon  \n"
          ]
        }
      ]
    },
    {
      "cell_type": "code",
      "source": [
        "#13. Create a 3D scatter plot using Plotly\n",
        "\n",
        "import plotly.express as px\n",
        "import pandas as pd\n",
        "\n",
        "\n",
        "data = {\n",
        "    'x_values': [1, 2, 3, 4, 5, 6, 7, 8, 9, 10],\n",
        "    'y_values': [10, 8, 6, 4, 2, 1, 3, 5, 7, 9],\n",
        "    'z_values': [5, 2, 8, 1, 9, 3, 7, 4, 6, 10],\n",
        "    'categories': ['A', 'B', 'A', 'C', 'B', 'C', 'A', 'B', 'C', 'A']\n",
        "}\n",
        "df = pd.DataFrame(data)\n",
        "\n",
        "\n",
        "fig = px.scatter_3d(df,\n",
        "                    x='x_values',\n",
        "                    y='y_values',\n",
        "                    z='z_values',\n",
        "                    color='categories',\n",
        "                    title='3D Scatter Plot Example')\n",
        "\n",
        "\n",
        "fig.show()"
      ],
      "metadata": {
        "colab": {
          "base_uri": "https://localhost:8080/",
          "height": 542
        },
        "id": "BzZdWHDSp932",
        "outputId": "539ac6cb-9bfb-4086-a81c-d79bb3b99e56"
      },
      "execution_count": 18,
      "outputs": [
        {
          "output_type": "display_data",
          "data": {
            "text/html": [
              "<html>\n",
              "<head><meta charset=\"utf-8\" /></head>\n",
              "<body>\n",
              "    <div>            <script src=\"https://cdnjs.cloudflare.com/ajax/libs/mathjax/2.7.5/MathJax.js?config=TeX-AMS-MML_SVG\"></script><script type=\"text/javascript\">if (window.MathJax && window.MathJax.Hub && window.MathJax.Hub.Config) {window.MathJax.Hub.Config({SVG: {font: \"STIX-Web\"}});}</script>                <script type=\"text/javascript\">window.PlotlyConfig = {MathJaxConfig: 'local'};</script>\n",
              "        <script charset=\"utf-8\" src=\"https://cdn.plot.ly/plotly-2.35.2.min.js\"></script>                <div id=\"e022f4c6-165b-4b64-b809-6bd31623f8c7\" class=\"plotly-graph-div\" style=\"height:525px; width:100%;\"></div>            <script type=\"text/javascript\">                                    window.PLOTLYENV=window.PLOTLYENV || {};                                    if (document.getElementById(\"e022f4c6-165b-4b64-b809-6bd31623f8c7\")) {                    Plotly.newPlot(                        \"e022f4c6-165b-4b64-b809-6bd31623f8c7\",                        [{\"hovertemplate\":\"categories=A\\u003cbr\\u003ex_values=%{x}\\u003cbr\\u003ey_values=%{y}\\u003cbr\\u003ez_values=%{z}\\u003cextra\\u003e\\u003c\\u002fextra\\u003e\",\"legendgroup\":\"A\",\"marker\":{\"color\":\"#636efa\",\"symbol\":\"circle\"},\"mode\":\"markers\",\"name\":\"A\",\"scene\":\"scene\",\"showlegend\":true,\"x\":[1,3,7,10],\"y\":[10,6,3,9],\"z\":[5,8,7,10],\"type\":\"scatter3d\"},{\"hovertemplate\":\"categories=B\\u003cbr\\u003ex_values=%{x}\\u003cbr\\u003ey_values=%{y}\\u003cbr\\u003ez_values=%{z}\\u003cextra\\u003e\\u003c\\u002fextra\\u003e\",\"legendgroup\":\"B\",\"marker\":{\"color\":\"#EF553B\",\"symbol\":\"circle\"},\"mode\":\"markers\",\"name\":\"B\",\"scene\":\"scene\",\"showlegend\":true,\"x\":[2,5,8],\"y\":[8,2,5],\"z\":[2,9,4],\"type\":\"scatter3d\"},{\"hovertemplate\":\"categories=C\\u003cbr\\u003ex_values=%{x}\\u003cbr\\u003ey_values=%{y}\\u003cbr\\u003ez_values=%{z}\\u003cextra\\u003e\\u003c\\u002fextra\\u003e\",\"legendgroup\":\"C\",\"marker\":{\"color\":\"#00cc96\",\"symbol\":\"circle\"},\"mode\":\"markers\",\"name\":\"C\",\"scene\":\"scene\",\"showlegend\":true,\"x\":[4,6,9],\"y\":[4,1,7],\"z\":[1,3,6],\"type\":\"scatter3d\"}],                        {\"template\":{\"data\":{\"histogram2dcontour\":[{\"type\":\"histogram2dcontour\",\"colorbar\":{\"outlinewidth\":0,\"ticks\":\"\"},\"colorscale\":[[0.0,\"#0d0887\"],[0.1111111111111111,\"#46039f\"],[0.2222222222222222,\"#7201a8\"],[0.3333333333333333,\"#9c179e\"],[0.4444444444444444,\"#bd3786\"],[0.5555555555555556,\"#d8576b\"],[0.6666666666666666,\"#ed7953\"],[0.7777777777777778,\"#fb9f3a\"],[0.8888888888888888,\"#fdca26\"],[1.0,\"#f0f921\"]]}],\"choropleth\":[{\"type\":\"choropleth\",\"colorbar\":{\"outlinewidth\":0,\"ticks\":\"\"}}],\"histogram2d\":[{\"type\":\"histogram2d\",\"colorbar\":{\"outlinewidth\":0,\"ticks\":\"\"},\"colorscale\":[[0.0,\"#0d0887\"],[0.1111111111111111,\"#46039f\"],[0.2222222222222222,\"#7201a8\"],[0.3333333333333333,\"#9c179e\"],[0.4444444444444444,\"#bd3786\"],[0.5555555555555556,\"#d8576b\"],[0.6666666666666666,\"#ed7953\"],[0.7777777777777778,\"#fb9f3a\"],[0.8888888888888888,\"#fdca26\"],[1.0,\"#f0f921\"]]}],\"heatmap\":[{\"type\":\"heatmap\",\"colorbar\":{\"outlinewidth\":0,\"ticks\":\"\"},\"colorscale\":[[0.0,\"#0d0887\"],[0.1111111111111111,\"#46039f\"],[0.2222222222222222,\"#7201a8\"],[0.3333333333333333,\"#9c179e\"],[0.4444444444444444,\"#bd3786\"],[0.5555555555555556,\"#d8576b\"],[0.6666666666666666,\"#ed7953\"],[0.7777777777777778,\"#fb9f3a\"],[0.8888888888888888,\"#fdca26\"],[1.0,\"#f0f921\"]]}],\"heatmapgl\":[{\"type\":\"heatmapgl\",\"colorbar\":{\"outlinewidth\":0,\"ticks\":\"\"},\"colorscale\":[[0.0,\"#0d0887\"],[0.1111111111111111,\"#46039f\"],[0.2222222222222222,\"#7201a8\"],[0.3333333333333333,\"#9c179e\"],[0.4444444444444444,\"#bd3786\"],[0.5555555555555556,\"#d8576b\"],[0.6666666666666666,\"#ed7953\"],[0.7777777777777778,\"#fb9f3a\"],[0.8888888888888888,\"#fdca26\"],[1.0,\"#f0f921\"]]}],\"contourcarpet\":[{\"type\":\"contourcarpet\",\"colorbar\":{\"outlinewidth\":0,\"ticks\":\"\"}}],\"contour\":[{\"type\":\"contour\",\"colorbar\":{\"outlinewidth\":0,\"ticks\":\"\"},\"colorscale\":[[0.0,\"#0d0887\"],[0.1111111111111111,\"#46039f\"],[0.2222222222222222,\"#7201a8\"],[0.3333333333333333,\"#9c179e\"],[0.4444444444444444,\"#bd3786\"],[0.5555555555555556,\"#d8576b\"],[0.6666666666666666,\"#ed7953\"],[0.7777777777777778,\"#fb9f3a\"],[0.8888888888888888,\"#fdca26\"],[1.0,\"#f0f921\"]]}],\"surface\":[{\"type\":\"surface\",\"colorbar\":{\"outlinewidth\":0,\"ticks\":\"\"},\"colorscale\":[[0.0,\"#0d0887\"],[0.1111111111111111,\"#46039f\"],[0.2222222222222222,\"#7201a8\"],[0.3333333333333333,\"#9c179e\"],[0.4444444444444444,\"#bd3786\"],[0.5555555555555556,\"#d8576b\"],[0.6666666666666666,\"#ed7953\"],[0.7777777777777778,\"#fb9f3a\"],[0.8888888888888888,\"#fdca26\"],[1.0,\"#f0f921\"]]}],\"mesh3d\":[{\"type\":\"mesh3d\",\"colorbar\":{\"outlinewidth\":0,\"ticks\":\"\"}}],\"scatter\":[{\"fillpattern\":{\"fillmode\":\"overlay\",\"size\":10,\"solidity\":0.2},\"type\":\"scatter\"}],\"parcoords\":[{\"type\":\"parcoords\",\"line\":{\"colorbar\":{\"outlinewidth\":0,\"ticks\":\"\"}}}],\"scatterpolargl\":[{\"type\":\"scatterpolargl\",\"marker\":{\"colorbar\":{\"outlinewidth\":0,\"ticks\":\"\"}}}],\"bar\":[{\"error_x\":{\"color\":\"#2a3f5f\"},\"error_y\":{\"color\":\"#2a3f5f\"},\"marker\":{\"line\":{\"color\":\"#E5ECF6\",\"width\":0.5},\"pattern\":{\"fillmode\":\"overlay\",\"size\":10,\"solidity\":0.2}},\"type\":\"bar\"}],\"scattergeo\":[{\"type\":\"scattergeo\",\"marker\":{\"colorbar\":{\"outlinewidth\":0,\"ticks\":\"\"}}}],\"scatterpolar\":[{\"type\":\"scatterpolar\",\"marker\":{\"colorbar\":{\"outlinewidth\":0,\"ticks\":\"\"}}}],\"histogram\":[{\"marker\":{\"pattern\":{\"fillmode\":\"overlay\",\"size\":10,\"solidity\":0.2}},\"type\":\"histogram\"}],\"scattergl\":[{\"type\":\"scattergl\",\"marker\":{\"colorbar\":{\"outlinewidth\":0,\"ticks\":\"\"}}}],\"scatter3d\":[{\"type\":\"scatter3d\",\"line\":{\"colorbar\":{\"outlinewidth\":0,\"ticks\":\"\"}},\"marker\":{\"colorbar\":{\"outlinewidth\":0,\"ticks\":\"\"}}}],\"scattermapbox\":[{\"type\":\"scattermapbox\",\"marker\":{\"colorbar\":{\"outlinewidth\":0,\"ticks\":\"\"}}}],\"scatterternary\":[{\"type\":\"scatterternary\",\"marker\":{\"colorbar\":{\"outlinewidth\":0,\"ticks\":\"\"}}}],\"scattercarpet\":[{\"type\":\"scattercarpet\",\"marker\":{\"colorbar\":{\"outlinewidth\":0,\"ticks\":\"\"}}}],\"carpet\":[{\"aaxis\":{\"endlinecolor\":\"#2a3f5f\",\"gridcolor\":\"white\",\"linecolor\":\"white\",\"minorgridcolor\":\"white\",\"startlinecolor\":\"#2a3f5f\"},\"baxis\":{\"endlinecolor\":\"#2a3f5f\",\"gridcolor\":\"white\",\"linecolor\":\"white\",\"minorgridcolor\":\"white\",\"startlinecolor\":\"#2a3f5f\"},\"type\":\"carpet\"}],\"table\":[{\"cells\":{\"fill\":{\"color\":\"#EBF0F8\"},\"line\":{\"color\":\"white\"}},\"header\":{\"fill\":{\"color\":\"#C8D4E3\"},\"line\":{\"color\":\"white\"}},\"type\":\"table\"}],\"barpolar\":[{\"marker\":{\"line\":{\"color\":\"#E5ECF6\",\"width\":0.5},\"pattern\":{\"fillmode\":\"overlay\",\"size\":10,\"solidity\":0.2}},\"type\":\"barpolar\"}],\"pie\":[{\"automargin\":true,\"type\":\"pie\"}]},\"layout\":{\"autotypenumbers\":\"strict\",\"colorway\":[\"#636efa\",\"#EF553B\",\"#00cc96\",\"#ab63fa\",\"#FFA15A\",\"#19d3f3\",\"#FF6692\",\"#B6E880\",\"#FF97FF\",\"#FECB52\"],\"font\":{\"color\":\"#2a3f5f\"},\"hovermode\":\"closest\",\"hoverlabel\":{\"align\":\"left\"},\"paper_bgcolor\":\"white\",\"plot_bgcolor\":\"#E5ECF6\",\"polar\":{\"bgcolor\":\"#E5ECF6\",\"angularaxis\":{\"gridcolor\":\"white\",\"linecolor\":\"white\",\"ticks\":\"\"},\"radialaxis\":{\"gridcolor\":\"white\",\"linecolor\":\"white\",\"ticks\":\"\"}},\"ternary\":{\"bgcolor\":\"#E5ECF6\",\"aaxis\":{\"gridcolor\":\"white\",\"linecolor\":\"white\",\"ticks\":\"\"},\"baxis\":{\"gridcolor\":\"white\",\"linecolor\":\"white\",\"ticks\":\"\"},\"caxis\":{\"gridcolor\":\"white\",\"linecolor\":\"white\",\"ticks\":\"\"}},\"coloraxis\":{\"colorbar\":{\"outlinewidth\":0,\"ticks\":\"\"}},\"colorscale\":{\"sequential\":[[0.0,\"#0d0887\"],[0.1111111111111111,\"#46039f\"],[0.2222222222222222,\"#7201a8\"],[0.3333333333333333,\"#9c179e\"],[0.4444444444444444,\"#bd3786\"],[0.5555555555555556,\"#d8576b\"],[0.6666666666666666,\"#ed7953\"],[0.7777777777777778,\"#fb9f3a\"],[0.8888888888888888,\"#fdca26\"],[1.0,\"#f0f921\"]],\"sequentialminus\":[[0.0,\"#0d0887\"],[0.1111111111111111,\"#46039f\"],[0.2222222222222222,\"#7201a8\"],[0.3333333333333333,\"#9c179e\"],[0.4444444444444444,\"#bd3786\"],[0.5555555555555556,\"#d8576b\"],[0.6666666666666666,\"#ed7953\"],[0.7777777777777778,\"#fb9f3a\"],[0.8888888888888888,\"#fdca26\"],[1.0,\"#f0f921\"]],\"diverging\":[[0,\"#8e0152\"],[0.1,\"#c51b7d\"],[0.2,\"#de77ae\"],[0.3,\"#f1b6da\"],[0.4,\"#fde0ef\"],[0.5,\"#f7f7f7\"],[0.6,\"#e6f5d0\"],[0.7,\"#b8e186\"],[0.8,\"#7fbc41\"],[0.9,\"#4d9221\"],[1,\"#276419\"]]},\"xaxis\":{\"gridcolor\":\"white\",\"linecolor\":\"white\",\"ticks\":\"\",\"title\":{\"standoff\":15},\"zerolinecolor\":\"white\",\"automargin\":true,\"zerolinewidth\":2},\"yaxis\":{\"gridcolor\":\"white\",\"linecolor\":\"white\",\"ticks\":\"\",\"title\":{\"standoff\":15},\"zerolinecolor\":\"white\",\"automargin\":true,\"zerolinewidth\":2},\"scene\":{\"xaxis\":{\"backgroundcolor\":\"#E5ECF6\",\"gridcolor\":\"white\",\"linecolor\":\"white\",\"showbackground\":true,\"ticks\":\"\",\"zerolinecolor\":\"white\",\"gridwidth\":2},\"yaxis\":{\"backgroundcolor\":\"#E5ECF6\",\"gridcolor\":\"white\",\"linecolor\":\"white\",\"showbackground\":true,\"ticks\":\"\",\"zerolinecolor\":\"white\",\"gridwidth\":2},\"zaxis\":{\"backgroundcolor\":\"#E5ECF6\",\"gridcolor\":\"white\",\"linecolor\":\"white\",\"showbackground\":true,\"ticks\":\"\",\"zerolinecolor\":\"white\",\"gridwidth\":2}},\"shapedefaults\":{\"line\":{\"color\":\"#2a3f5f\"}},\"annotationdefaults\":{\"arrowcolor\":\"#2a3f5f\",\"arrowhead\":0,\"arrowwidth\":1},\"geo\":{\"bgcolor\":\"white\",\"landcolor\":\"#E5ECF6\",\"subunitcolor\":\"white\",\"showland\":true,\"showlakes\":true,\"lakecolor\":\"white\"},\"title\":{\"x\":0.05},\"mapbox\":{\"style\":\"light\"}}},\"scene\":{\"domain\":{\"x\":[0.0,1.0],\"y\":[0.0,1.0]},\"xaxis\":{\"title\":{\"text\":\"x_values\"}},\"yaxis\":{\"title\":{\"text\":\"y_values\"}},\"zaxis\":{\"title\":{\"text\":\"z_values\"}}},\"legend\":{\"title\":{\"text\":\"categories\"},\"tracegroupgap\":0},\"title\":{\"text\":\"3D Scatter Plot Example\"}},                        {\"responsive\": true}                    ).then(function(){\n",
              "                            \n",
              "var gd = document.getElementById('e022f4c6-165b-4b64-b809-6bd31623f8c7');\n",
              "var x = new MutationObserver(function (mutations, observer) {{\n",
              "        var display = window.getComputedStyle(gd).display;\n",
              "        if (!display || display === 'none') {{\n",
              "            console.log([gd, 'removed!']);\n",
              "            Plotly.purge(gd);\n",
              "            observer.disconnect();\n",
              "        }}\n",
              "}});\n",
              "\n",
              "// Listen for the removal of the full notebook cells\n",
              "var notebookContainer = gd.closest('#notebook-container');\n",
              "if (notebookContainer) {{\n",
              "    x.observe(notebookContainer, {childList: true});\n",
              "}}\n",
              "\n",
              "// Listen for the clearing of the current output cell\n",
              "var outputEl = gd.closest('.output');\n",
              "if (outputEl) {{\n",
              "    x.observe(outputEl, {childList: true});\n",
              "}}\n",
              "\n",
              "                        })                };                            </script>        </div>\n",
              "</body>\n",
              "</html>"
            ]
          },
          "metadata": {}
        }
      ]
    },
    {
      "cell_type": "code",
      "source": [],
      "metadata": {
        "id": "XU9du_ACp905"
      },
      "execution_count": null,
      "outputs": []
    },
    {
      "cell_type": "code",
      "source": [],
      "metadata": {
        "id": "A8m3QvBxp9yC"
      },
      "execution_count": null,
      "outputs": []
    },
    {
      "cell_type": "code",
      "source": [],
      "metadata": {
        "id": "aYqJsZ-up9vN"
      },
      "execution_count": null,
      "outputs": []
    },
    {
      "cell_type": "code",
      "source": [],
      "metadata": {
        "id": "oP-S_UZgp9sF"
      },
      "execution_count": null,
      "outputs": []
    },
    {
      "cell_type": "code",
      "source": [],
      "metadata": {
        "id": "C-1dMMEpp9pc"
      },
      "execution_count": null,
      "outputs": []
    },
    {
      "cell_type": "code",
      "source": [],
      "metadata": {
        "id": "vwaiV1knp9ma"
      },
      "execution_count": null,
      "outputs": []
    },
    {
      "cell_type": "code",
      "source": [],
      "metadata": {
        "id": "hCH2EO0hp9ju"
      },
      "execution_count": null,
      "outputs": []
    },
    {
      "cell_type": "code",
      "source": [],
      "metadata": {
        "id": "6xgvKgB3p9g1"
      },
      "execution_count": null,
      "outputs": []
    },
    {
      "cell_type": "code",
      "source": [],
      "metadata": {
        "id": "vKeSz49Np9d_"
      },
      "execution_count": null,
      "outputs": []
    },
    {
      "cell_type": "code",
      "source": [],
      "metadata": {
        "id": "Toh-6m8qp9bL"
      },
      "execution_count": null,
      "outputs": []
    },
    {
      "cell_type": "code",
      "source": [],
      "metadata": {
        "id": "m5spVCqBp9Yh"
      },
      "execution_count": null,
      "outputs": []
    },
    {
      "cell_type": "code",
      "source": [],
      "metadata": {
        "id": "qjrQAm_Gp9Vd"
      },
      "execution_count": null,
      "outputs": []
    },
    {
      "cell_type": "code",
      "source": [],
      "metadata": {
        "id": "N3s5pMDdp9S1"
      },
      "execution_count": null,
      "outputs": []
    },
    {
      "cell_type": "code",
      "source": [],
      "metadata": {
        "id": "7LCql_01p9QH"
      },
      "execution_count": null,
      "outputs": []
    },
    {
      "cell_type": "code",
      "execution_count": null,
      "metadata": {
        "id": "a1xNnrXgp8nN"
      },
      "outputs": [],
      "source": []
    },
    {
      "cell_type": "code",
      "source": [],
      "metadata": {
        "id": "tJpyBL6zIs0f"
      },
      "execution_count": null,
      "outputs": []
    },
    {
      "cell_type": "code",
      "source": [],
      "metadata": {
        "id": "f3qh1WsAIsyX"
      },
      "execution_count": null,
      "outputs": []
    },
    {
      "cell_type": "code",
      "source": [],
      "metadata": {
        "id": "ORNYv2-wIsv0"
      },
      "execution_count": null,
      "outputs": []
    },
    {
      "cell_type": "code",
      "source": [],
      "metadata": {
        "id": "GkiZ-dT4IstJ"
      },
      "execution_count": null,
      "outputs": []
    },
    {
      "cell_type": "code",
      "source": [],
      "metadata": {
        "id": "t4uIFkoJIsqW"
      },
      "execution_count": null,
      "outputs": []
    },
    {
      "cell_type": "code",
      "source": [],
      "metadata": {
        "id": "QtZKAzf3Isns"
      },
      "execution_count": null,
      "outputs": []
    },
    {
      "cell_type": "code",
      "source": [],
      "metadata": {
        "id": "PqqVwa-UIsk0"
      },
      "execution_count": null,
      "outputs": []
    },
    {
      "cell_type": "code",
      "source": [],
      "metadata": {
        "id": "4FKSwdxWIsiN"
      },
      "execution_count": null,
      "outputs": []
    },
    {
      "cell_type": "code",
      "source": [],
      "metadata": {
        "id": "wza1jxRJIsfn"
      },
      "execution_count": null,
      "outputs": []
    },
    {
      "cell_type": "code",
      "source": [],
      "metadata": {
        "id": "CAO3C888IsdA"
      },
      "execution_count": null,
      "outputs": []
    },
    {
      "cell_type": "code",
      "source": [],
      "metadata": {
        "id": "DZjHazKbIsaa"
      },
      "execution_count": null,
      "outputs": []
    },
    {
      "cell_type": "code",
      "source": [],
      "metadata": {
        "id": "ULjp78HTIsXv"
      },
      "execution_count": null,
      "outputs": []
    }
  ]
}